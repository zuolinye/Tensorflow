{
  "nbformat": 4,
  "nbformat_minor": 0,
  "metadata": {
    "colab": {
      "name": "Tensorflow框架",
      "version": "0.3.2",
      "provenance": [],
      "include_colab_link": true
    }
  },
  "cells": [
    {
      "cell_type": "markdown",
      "metadata": {
        "id": "view-in-github",
        "colab_type": "text"
      },
      "source": [
        "[View in Colaboratory](https://colab.research.google.com/github/zuolinye/Tensorflow/blob/master/Tensorflow%E6%A1%86%E6%9E%B6.ipynb)"
      ]
    },
    {
      "metadata": {
        "id": "gI_68hZjjtPK",
        "colab_type": "text"
      },
      "cell_type": "markdown",
      "source": [
        "基于Tensorflow的神经网络\n",
        "1. 用张量表示数据\n",
        "2. 用计算图搭建神经网络\n",
        "3. 用会话执行计算图\n",
        "4. 优化线上的权重（参数）\n",
        "5. 得到模型"
      ]
    },
    {
      "metadata": {
        "id": "O4F9roiXkItA",
        "colab_type": "text"
      },
      "cell_type": "markdown",
      "source": [
        "1. 张量（tensor）：多维数组（列表）  \n",
        "阶：张量的维度"
      ]
    },
    {
      "metadata": {
        "id": "wism5EmKjMR0",
        "colab_type": "code",
        "colab": {}
      },
      "cell_type": "code",
      "source": [
        "import tensorflow as tf"
      ],
      "execution_count": 0,
      "outputs": []
    },
    {
      "metadata": {
        "id": "aG4onoZljQNo",
        "colab_type": "code",
        "colab": {}
      },
      "cell_type": "code",
      "source": [
        "a = tf.constant([1.0,2.0])\n",
        "b = tf.constant([3.0,4.0])"
      ],
      "execution_count": 0,
      "outputs": []
    },
    {
      "metadata": {
        "id": "_IMT582vk4CK",
        "colab_type": "code",
        "colab": {
          "base_uri": "https://localhost:8080/",
          "height": 35
        },
        "outputId": "f21243c8-ca99-4001-c8d6-8ce35572bc5b"
      },
      "cell_type": "code",
      "source": [
        "result = a + b\n",
        "print(result)"
      ],
      "execution_count": 6,
      "outputs": [
        {
          "output_type": "stream",
          "text": [
            "Tensor(\"add:0\", shape=(2,), dtype=float32)\n"
          ],
          "name": "stdout"
        }
      ]
    },
    {
      "metadata": {
        "id": "IdUSq0cclE_T",
        "colab_type": "text"
      },
      "cell_type": "markdown",
      "source": [
        "上述代码所描述的就是一个计算过程，就是一张计算图，   \n",
        "从print输出的内容可以看出，只显示出整个结果是个张量，并没有实际运算张量的值，  \n",
        "所以计算图只描述了运算过程，不计算运算结果  "
      ]
    },
    {
      "metadata": {
        "id": "GO6m6uG3lzvh",
        "colab_type": "text"
      },
      "cell_type": "markdown",
      "source": [
        "2. 计算图（Graph）：搭建神经网络的计算过程（承载一个或多个计算节点的计算图），只搭建不计算"
      ]
    },
    {
      "metadata": {
        "id": "o-0NzUrjk-Di",
        "colab_type": "code",
        "colab": {}
      },
      "cell_type": "code",
      "source": [
        "import tensorflow as tf"
      ],
      "execution_count": 0,
      "outputs": []
    },
    {
      "metadata": {
        "id": "dxPc_dEjlDCf",
        "colab_type": "text"
      },
      "cell_type": "markdown",
      "source": [
        ""
      ]
    },
    {
      "metadata": {
        "id": "TdO4NUBAnHnz",
        "colab_type": "code",
        "colab": {}
      },
      "cell_type": "code",
      "source": [
        "x = tf.constant([1.0,2.0])\n",
        "y = tf.constant([3.0],[4.0])"
      ],
      "execution_count": 0,
      "outputs": []
    },
    {
      "metadata": {
        "id": "cNvPoOpFnH2H",
        "colab_type": "code",
        "colab": {}
      },
      "cell_type": "code",
      "source": [
        ""
      ],
      "execution_count": 0,
      "outputs": []
    }
  ]
}